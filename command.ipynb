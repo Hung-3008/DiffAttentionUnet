{
 "cells": [
  {
   "cell_type": "code",
   "execution_count": 1,
   "metadata": {},
   "outputs": [
    {
     "name": "stdout",
     "output_type": "stream",
     "text": [
      "c:\\Users\\buihu\\OneDrive\\Tài liệu\\AIO\\Research\\ACCV\\Diff-UNet-main\\BraTS2020\n"
     ]
    }
   ],
   "source": [
    "%cd BraTS2020/"
   ]
  },
  {
   "cell_type": "code",
   "execution_count": 2,
   "metadata": {},
   "outputs": [
    {
     "name": "stderr",
     "output_type": "stream",
     "text": [
      "Traceback (most recent call last):\n",
      "  File \"train.py\", line 6, in <module>\n",
      "    from light_training.evaluation.metric import dice\n",
      "  File \"c:\\Users\\buihu\\OneDrive\\Tài liệu\\AIO\\Research\\ACCV\\Diff-UNet-main\\BraTS2020\\light_training\\evaluation\\metric.py\", line 16, in <module>\n",
      "    from medpy import metric\n",
      "ModuleNotFoundError: No module named 'medpy'\n"
     ]
    }
   ],
   "source": [
    "!python train.py"
   ]
  }
 ],
 "metadata": {
  "kernelspec": {
   "display_name": "fern",
   "language": "python",
   "name": "python3"
  },
  "language_info": {
   "codemirror_mode": {
    "name": "ipython",
    "version": 3
   },
   "file_extension": ".py",
   "mimetype": "text/x-python",
   "name": "python",
   "nbconvert_exporter": "python",
   "pygments_lexer": "ipython3",
   "version": "3.8.19"
  }
 },
 "nbformat": 4,
 "nbformat_minor": 2
}
