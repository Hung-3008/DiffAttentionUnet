{
 "cells": [
  {
   "cell_type": "code",
   "execution_count": 1,
   "metadata": {},
   "outputs": [
    {
     "name": "stdout",
     "output_type": "stream",
     "text": [
      "c:\\Users\\buihu\\OneDrive\\Tài liệu\\AIO\\Research\\ACCV\\Diff-UNet-main\\BraTS2020\n"
     ]
    }
   ],
   "source": [
    "%cd BraTS2020/"
   ]
  },
  {
   "cell_type": "code",
   "execution_count": 2,
   "metadata": {},
   "outputs": [
    {
     "name": "stderr",
     "output_type": "stream",
     "text": [
      "Traceback (most recent call last):\n",
      "  File \"train.py\", line 6, in <module>\n",
      "    from light_training.evaluation.metric import dice\n",
      "  File \"c:\\Users\\buihu\\OneDrive\\Tài liệu\\AIO\\Research\\ACCV\\Diff-UNet-main\\BraTS2020\\light_training\\evaluation\\metric.py\", line 16, in <module>\n",
      "    from medpy import metric\n",
      "ModuleNotFoundError: No module named 'medpy'\n"
     ]
    }
   ],
   "source": [
    "!python train.py"
   ]
  },
  {
   "cell_type": "code",
   "execution_count": null,
   "metadata": {},
   "outputs": [],
   "source": [
    "class SelfAttention(nn.Module):\n",
    "    def __init__(self, in_dim, heads=8):\n",
    "        super().__init__()\n",
    "        self.heads = heads\n",
    "        self.scale = (in_dim // heads) ** -0.5\n",
    "\n",
    "        self.to_qkv = nn.Linear(in_dim, in_dim * 3, bias=False)\n",
    "        self.to_out = nn.Linear(in_dim, in_dim)\n",
    "\n",
    "    def forward(self, x):\n",
    "        B, N, C = x.shape\n",
    "        qkv = self.to_qkv(x).chunk(3, dim=-1)\n",
    "        q, k, v = map(lambda t: t.reshape(B, N, self.heads, C // self.heads).transpose(1, 2), qkv)\n",
    "\n",
    "        dots = (q @ k.transpose(-1, -2)) * self.scale\n",
    "        attn = dots.softmax(dim=-1)\n",
    "\n",
    "        out = (attn @ v).transpose(1, 2).reshape(B, N, C)\n",
    "        return self.to_out(out)"
   ]
  },
  {
   "cell_type": "code",
   "execution_count": null,
   "metadata": {},
   "outputs": [],
   "source": [
    "class BasicUNetDe(nn.Module):\n",
    "    # ...\n",
    "    def __init__(\n",
    "        self,\n",
    "        spatial_dims: int = 3,\n",
    "        in_channels: int = 1,\n",
    "        out_channels: int = 2,\n",
    "        features: Sequence[int] = (32, 32, 64, 128, 256, 32),\n",
    "        act: Union[str, tuple] = (\"LeakyReLU\", {\"negative_slope\": 0.1, \"inplace\": True}),\n",
    "        norm: Union[str, tuple] = (\"instance\", {\"affine\": True}),\n",
    "        bias: bool = True,\n",
    "        dropout: Union[float, tuple] = 0.0,\n",
    "        upsample: str = \"deconv\",\n",
    "        dimensions: Optional[int] = None,\n",
    "    ):\n",
    "        # ...\n",
    "        self.attention_0 = SelfAttention(features[0])\n",
    "        self.attention_1 = SelfAttention(features[1])\n",
    "        self.attention_2 = SelfAttention(features[2])\n",
    "        self.attention_3 = SelfAttention(features[3])\n",
    "        self.attention_4 = SelfAttention(features[4])\n",
    "\n",
    "    def forward(self, x: torch.Tensor, t, embeddings=None, image=None):\n",
    "        # ...\n",
    "        x0 = self.conv_0(x, temb)\n",
    "        x0 = self.attention_0(x0)\n",
    "        if embeddings is not None:\n",
    "            x0 += embeddings[0]\n",
    "\n",
    "        x1 = self.down_1(x0, temb)\n",
    "        x1 = self.attention_1(x1)\n",
    "        if embeddings is not None:\n",
    "            x1 += embeddings[1]\n",
    "\n",
    "        x2 = self.down_2(x1, temb)\n",
    "        x2 = self.attention_2(x2)\n",
    "        if embeddings is not None:\n",
    "            x2 += embeddings[2]\n",
    "\n",
    "        x3 = self.down_3(x2, temb)\n",
    "        x3 = self.attention_3(x3)\n",
    "        if embeddings is not None:\n",
    "            x3 += embeddings[3]\n",
    "\n",
    "        x4 = self.down_4(x3, temb)\n",
    "        x4 = self.attention_4(x4)\n",
    "        if embeddings is not None:\n",
    "            x4 += embeddings[4]\n",
    "\n",
    "        # ..."
   ]
  }
 ],
 "metadata": {
  "kernelspec": {
   "display_name": "fern",
   "language": "python",
   "name": "python3"
  },
  "language_info": {
   "codemirror_mode": {
    "name": "ipython",
    "version": 3
   },
   "file_extension": ".py",
   "mimetype": "text/x-python",
   "name": "python",
   "nbconvert_exporter": "python",
   "pygments_lexer": "ipython3",
   "version": "3.8.19"
  }
 },
 "nbformat": 4,
 "nbformat_minor": 2
}
