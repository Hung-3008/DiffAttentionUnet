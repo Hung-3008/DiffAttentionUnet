{
 "cells": [
  {
   "cell_type": "code",
   "execution_count": 1,
   "metadata": {},
   "outputs": [
    {
     "ename": "ModuleNotFoundError",
     "evalue": "No module named 'tensorflow'",
     "output_type": "error",
     "traceback": [
      "\u001b[1;31m---------------------------------------------------------------------------\u001b[0m",
      "\u001b[1;31mModuleNotFoundError\u001b[0m                       Traceback (most recent call last)",
      "Cell \u001b[1;32mIn[1], line 1\u001b[0m\n\u001b[1;32m----> 1\u001b[0m \u001b[38;5;28;01mfrom\u001b[39;00m \u001b[38;5;21;01mtensorflow\u001b[39;00m\u001b[38;5;21;01m.\u001b[39;00m\u001b[38;5;21;01mpython\u001b[39;00m\u001b[38;5;21;01m.\u001b[39;00m\u001b[38;5;21;01msummary\u001b[39;00m\u001b[38;5;21;01m.\u001b[39;00m\u001b[38;5;21;01msummary_iterator\u001b[39;00m \u001b[38;5;28;01mimport\u001b[39;00m summary_iterator\n",
      "\u001b[1;31mModuleNotFoundError\u001b[0m: No module named 'tensorflow'"
     ]
    }
   ],
   "source": []
  },
  {
   "cell_type": "code",
   "execution_count": 1,
   "metadata": {},
   "outputs": [
    {
     "name": "stdout",
     "output_type": "stream",
     "text": [
      "INSERT INTO public.folders (resource_id, created_at, last_updated, is_deleted, id, name, creator_id, parent_id, is_default) VALUES ('69a4feeb-6477-4ea7-b192-02c1b991ea1e', '2024-06-27 18:08:01.489', '2024-06-27 18:08:01.489', false, 100000, 'MT_WINMART PLUS', 2, 100111, false);\n",
      "INSERT INTO public.folders (resource_id, created_at, last_updated, is_deleted, id, name, creator_id, parent_id, is_default) VALUES ('1029458a-c344-4760-882e-62af693e58de', '2024-06-27 18:08:01.489', '2024-06-27 18:08:01.489', false, 100001, 'MT_WINMART', 2, 100111, false);\n",
      "INSERT INTO public.folders (resource_id, created_at, last_updated, is_deleted, id, name, creator_id, parent_id, is_default) VALUES ('27d78984-a0c1-4465-b7a6-9359f325fd0d', '2024-06-27 18:08:01.489', '2024-06-27 18:08:01.489', false, 100002, 'MT_WINMART + WINMART PLUS', 2, 100111, false);\n",
      "INSERT INTO public.folders (resource_id, created_at, last_updated, is_deleted, id, name, creator_id, parent_id, is_default) VALUES ('a78cebef-cfcd-4b03-8cf1-a28b9a351c44', '2024-06-27 18:08:01.489', '2024-06-27 18:08:01.489', false, 100003, 'MT_WATSON', 2, 100111, false);\n",
      "INSERT INTO public.folders (resource_id, created_at, last_updated, is_deleted, id, name, creator_id, parent_id, is_default) VALUES ('f8089cde-68ec-4eca-945b-3cbfb256a722', '2024-06-27 18:08:01.489', '2024-06-27 18:08:01.489', false, 100004, 'MT_UEV Nguyen Kim', 2, 100111, false);\n",
      "INSERT INTO public.folders (resource_id, created_at, last_updated, is_deleted, id, name, creator_id, parent_id, is_default) VALUES ('22b5c672-fad0-4a3b-a3eb-1509f445abb9', '2024-06-27 18:08:01.489', '2024-06-27 18:08:01.489', false, 100005, 'MT_UEV Cao Phong', 2, 100111, false);\n",
      "INSERT INTO public.folders (resource_id, created_at, last_updated, is_deleted, id, name, creator_id, parent_id, is_default) VALUES ('9c38996f-f7a6-4c6e-afc1-d2ae739ebde0', '2024-06-27 18:08:01.489', '2024-06-27 18:08:01.489', false, 100006, 'MT_SATRA', 2, 100111, false);\n",
      "INSERT INTO public.folders (resource_id, created_at, last_updated, is_deleted, id, name, creator_id, parent_id, is_default) VALUES ('314ef7a3-5c65-49ac-9c4c-1f599c64f410', '2024-06-27 18:08:01.489', '2024-06-27 18:08:01.489', false, 100007, 'MT_SAIGON COOP', 2, 100111, false);\n",
      "INSERT INTO public.folders (resource_id, created_at, last_updated, is_deleted, id, name, creator_id, parent_id, is_default) VALUES ('502ec509-a2a2-4832-826d-b309d29cf106', '2024-06-27 18:08:01.489', '2024-06-27 18:08:01.489', false, 100008, 'MT_PHARMACITY', 2, 100111, false);\n",
      "INSERT INTO public.folders (resource_id, created_at, last_updated, is_deleted, id, name, creator_id, parent_id, is_default) VALUES ('aa9c39cc-ce02-4786-b282-be7fe3a3d5f8', '2024-06-27 18:08:01.489', '2024-06-27 18:08:01.489', false, 100009, 'MT_Omni', 2, 100111, false);\n",
      "INSERT INTO public.folders (resource_id, created_at, last_updated, is_deleted, id, name, creator_id, parent_id, is_default) VALUES ('3da9e6cf-cf20-46e3-9ae7-14734d927289', '2024-06-27 18:08:01.489', '2024-06-27 18:08:01.489', false, 100010, 'MT_METRO', 2, 100111, false);\n",
      "INSERT INTO public.folders (resource_id, created_at, last_updated, is_deleted, id, name, creator_id, parent_id, is_default) VALUES ('193be34b-32b0-4578-a659-0edc21804f2e', '2024-06-27 18:08:01.489', '2024-06-27 18:08:01.489', false, 100011, 'MT_MEDICARE', 2, 100111, false);\n",
      "INSERT INTO public.folders (resource_id, created_at, last_updated, is_deleted, id, name, creator_id, parent_id, is_default) VALUES ('78de6525-9f8f-4357-9043-7de593b297f0', '2024-06-27 18:08:01.489', '2024-06-27 18:08:01.489', false, 100012, 'MT_MATSU', 2, 100111, false);\n",
      "INSERT INTO public.folders (resource_id, created_at, last_updated, is_deleted, id, name, creator_id, parent_id, is_default) VALUES ('601195f1-fd6a-4c86-b22d-aa92b23074d2', '2024-06-27 18:08:01.489', '2024-06-27 18:08:01.489', false, 100013, 'MT_LOTTE', 2, 100111, false);\n",
      "INSERT INTO public.folders (resource_id, created_at, last_updated, is_deleted, id, name, creator_id, parent_id, is_default) VALUES ('dd3077d9-479a-40d9-bbe6-d22e8b416e1a', '2024-06-27 18:08:01.489', '2024-06-27 18:08:01.489', false, 100014, 'MT_LAN CHI', 2, 100111, false);\n",
      "INSERT INTO public.folders (resource_id, created_at, last_updated, is_deleted, id, name, creator_id, parent_id, is_default) VALUES ('398e57c9-6728-41bd-8f48-99be1c959949', '2024-06-27 18:08:01.489', '2024-06-27 18:08:01.489', false, 100015, 'MT INDEPENDENT SOUTH', 2, 100111, false);\n",
      "INSERT INTO public.folders (resource_id, created_at, last_updated, is_deleted, id, name, creator_id, parent_id, is_default) VALUES ('834353ad-eebc-4a60-a73f-4dad8b3fa3c6', '2024-06-27 18:08:01.489', '2024-06-27 18:08:01.489', false, 100016, 'MT INDEPENDENT NORTH', 2, 100111, false);\n",
      "INSERT INTO public.folders (resource_id, created_at, last_updated, is_deleted, id, name, creator_id, parent_id, is_default) VALUES ('22b22f91-3124-4931-a038-29cb2357cff3', '2024-06-27 18:08:01.489', '2024-06-27 18:08:01.489', false, 100017, 'MT_IND_CENTRAL', 2, 100111, false);\n",
      "INSERT INTO public.folders (resource_id, created_at, last_updated, is_deleted, id, name, creator_id, parent_id, is_default) VALUES ('bf477280-dab4-4068-b959-96f872b47904', '2024-06-27 18:08:01.489', '2024-06-27 18:08:01.489', false, 100018, 'MT_HBOO', 2, 100111, false);\n",
      "INSERT INTO public.folders (resource_id, created_at, last_updated, is_deleted, id, name, creator_id, parent_id, is_default) VALUES ('e434ba51-bb07-4795-9474-796a45385e9a', '2024-06-27 18:08:01.489', '2024-06-27 18:08:01.489', false, 100019, 'MT_GIANT', 2, 100111, false);\n",
      "INSERT INTO public.folders (resource_id, created_at, last_updated, is_deleted, id, name, creator_id, parent_id, is_default) VALUES ('0c112ece-d415-451a-8083-18576f4f2394', '2024-06-27 18:08:01.489', '2024-06-27 18:08:01.489', false, 100020, 'MT_Food Solution', 2, 100111, false);\n",
      "INSERT INTO public.folders (resource_id, created_at, last_updated, is_deleted, id, name, creator_id, parent_id, is_default) VALUES ('19536330-c083-45b3-9565-daa5b2f515c9', '2024-06-27 18:08:01.489', '2024-06-27 18:08:01.489', false, 100021, 'MT_eRetail Innovation', 2, 100111, false);\n",
      "INSERT INTO public.folders (resource_id, created_at, last_updated, is_deleted, id, name, creator_id, parent_id, is_default) VALUES ('13aaf10d-cbcc-4709-a3f1-dfc5c4fdbb38', '2024-06-27 18:08:01.489', '2024-06-27 18:08:01.489', false, 100022, 'MT_EMART', 2, 100111, false);\n",
      "INSERT INTO public.folders (resource_id, created_at, last_updated, is_deleted, id, name, creator_id, parent_id, is_default) VALUES ('57e9deba-0487-4f22-9dd4-aebbbd73c5b7', '2024-06-27 18:08:01.489', '2024-06-27 18:08:01.489', false, 100023, 'MT_BIG_C', 2, 100111, false);\n",
      "INSERT INTO public.folders (resource_id, created_at, last_updated, is_deleted, id, name, creator_id, parent_id, is_default) VALUES ('c108628a-a4c0-42cf-8f58-0b43203b6f32', '2024-06-27 18:08:01.489', '2024-06-27 18:08:01.489', false, 100024, 'MT_BACH HOA XANH', 2, 100111, false);\n",
      "INSERT INTO public.folders (resource_id, created_at, last_updated, is_deleted, id, name, creator_id, parent_id, is_default) VALUES ('deb2741f-8268-40df-a1c8-6e66030ebafd', '2024-06-27 18:08:01.489', '2024-06-27 18:08:01.489', false, 100025, 'MT_AEON', 2, 100111, false);\n",
      "INSERT INTO public.folders (resource_id, created_at, last_updated, is_deleted, id, name, creator_id, parent_id, is_default) VALUES ('ed7b9eeb-f17b-497a-904a-4ab7c544b6ad', '2024-06-27 18:08:01.489', '2024-06-27 18:08:01.489', false, 100026, 'MKT_SKIN CARE', 2, 100111, false);\n",
      "INSERT INTO public.folders (resource_id, created_at, last_updated, is_deleted, id, name, creator_id, parent_id, is_default) VALUES ('361bc295-aa38-478d-925b-15d14d1a65eb', '2024-06-27 18:08:01.489', '2024-06-27 18:08:01.489', false, 100027, 'MKT_SCRATCHCOOKINGAD', 2, 100111, false);\n",
      "INSERT INTO public.folders (resource_id, created_at, last_updated, is_deleted, id, name, creator_id, parent_id, is_default) VALUES ('87d93e6a-0c04-42c2-ba65-2259261029e9', '2024-06-27 18:08:01.489', '2024-06-27 18:08:01.489', false, 100028, 'MKT_OTHER NUTRITION', 2, 100111, false);\n",
      "INSERT INTO public.folders (resource_id, created_at, last_updated, is_deleted, id, name, creator_id, parent_id, is_default) VALUES ('a2374c64-9134-4583-a514-88b06f91bd25', '2024-06-27 18:08:01.489', '2024-06-27 18:08:01.489', false, 100029, 'MKT_ICE CREAM', 2, 100111, false);\n",
      "INSERT INTO public.folders (resource_id, created_at, last_updated, is_deleted, id, name, creator_id, parent_id, is_default) VALUES ('1dceadde-c9ec-48e0-829e-fa64c02228c3', '2024-06-27 18:08:01.489', '2024-06-27 18:08:01.489', false, 100030, 'MKT_HOME_HYGIENE', 2, 100111, false);\n",
      "INSERT INTO public.folders (resource_id, created_at, last_updated, is_deleted, id, name, creator_id, parent_id, is_default) VALUES ('2f866d71-263e-4d9f-ba32-6ec641f78c2a', '2024-06-27 18:08:01.489', '2024-06-27 18:08:01.489', false, 100031, 'MKT_HAIR CARE', 2, 100111, false);\n",
      "INSERT INTO public.folders (resource_id, created_at, last_updated, is_deleted, id, name, creator_id, parent_id, is_default) VALUES ('24363c16-5b22-475d-b293-226180d81314', '2024-06-27 18:08:01.489', '2024-06-27 18:08:01.489', false, 100032, 'MKT_FABRIC ENHANCERS', 2, 100111, false);\n",
      "INSERT INTO public.folders (resource_id, created_at, last_updated, is_deleted, id, name, creator_id, parent_id, is_default) VALUES ('55efcafb-60bb-44f4-ab11-44ccc42e53a0', '2024-06-27 18:08:01.489', '2024-06-27 18:08:01.489', false, 100033, 'MKT_FABRIC CLEANING', 2, 100111, false);\n",
      "INSERT INTO public.folders (resource_id, created_at, last_updated, is_deleted, id, name, creator_id, parent_id, is_default) VALUES ('bd1e7119-b845-459b-be6c-57e857e72e45', '2024-06-27 18:08:01.489', '2024-06-27 18:08:01.489', false, 100034, 'MKT_DRESSINGS', 2, 100111, false);\n",
      "INSERT INTO public.folders (resource_id, created_at, last_updated, is_deleted, id, name, creator_id, parent_id, is_default) VALUES ('17dcdfb4-84d9-4734-80ff-96adbbb0598f', '2024-06-27 18:08:01.489', '2024-06-27 18:08:01.489', false, 100035, 'DT_UEV VINADU', 2, 100111, false);\n",
      "INSERT INTO public.folders (resource_id, created_at, last_updated, is_deleted, id, name, creator_id, parent_id, is_default) VALUES ('8a13d3d9-e129-43e8-a071-28e8ae293e1f', '2024-06-27 18:08:01.489', '2024-06-27 18:08:01.489', false, 100036, 'DT_UEV Mai Thanh', 2, 100111, false);\n",
      "INSERT INTO public.folders (resource_id, created_at, last_updated, is_deleted, id, name, creator_id, parent_id, is_default) VALUES ('3d07c23d-6387-4736-bd89-835ee27e4a5b', '2024-06-27 18:08:01.489', '2024-06-27 18:08:01.489', false, 100037, 'DT_UEV AMA', 2, 100111, false);\n",
      "INSERT INTO public.folders (resource_id, created_at, last_updated, is_deleted, id, name, creator_id, parent_id, is_default) VALUES ('9a1a0e77-50bc-44b5-a932-93af1913f6ba', '2024-06-27 18:08:01.489', '2024-06-27 18:08:01.489', false, 100038, 'DT_SKIN CLEANSING', 2, 100111, false);\n",
      "INSERT INTO public.folders (resource_id, created_at, last_updated, is_deleted, id, name, creator_id, parent_id, is_default) VALUES ('d9ec6890-3f5c-47f1-a045-6dcbac635e6a', '2024-06-27 18:08:01.489', '2024-06-27 18:08:01.489', false, 100039, 'DT_SKIN CARE', 2, 100111, false);\n",
      "INSERT INTO public.folders (resource_id, created_at, last_updated, is_deleted, id, name, creator_id, parent_id, is_default) VALUES ('0a2ae5c6-da89-43ef-93e2-123f4a15d31e', '2024-06-27 18:08:01.489', '2024-06-27 18:08:01.489', false, 100040, 'DT_SCRATCH COOKING AIDS', 2, 100111, false);\n",
      "INSERT INTO public.folders (resource_id, created_at, last_updated, is_deleted, id, name, creator_id, parent_id, is_default) VALUES ('65a9ba1a-779a-424d-8c09-222be993b51d', '2024-06-27 18:08:01.489', '2024-06-27 18:08:01.489', false, 100041, 'DT_PROFESSIONAL CLEANING CATEGORY', 2, 100111, false);\n",
      "INSERT INTO public.folders (resource_id, created_at, last_updated, is_deleted, id, name, creator_id, parent_id, is_default) VALUES ('f481ebef-cf17-42e5-a1de-87e24deb7cca', '2024-06-27 18:08:01.489', '2024-06-27 18:08:01.489', false, 100042, 'DT_PRO HOMECARE', 2, 100111, false);\n",
      "INSERT INTO public.folders (resource_id, created_at, last_updated, is_deleted, id, name, creator_id, parent_id, is_default) VALUES ('fef67556-05c1-4f1d-8c58-9be0ea69c896', '2024-06-27 18:08:01.489', '2024-06-27 18:08:01.489', false, 100043, 'DT_PRO H&H', 2, 100111, false);\n",
      "INSERT INTO public.folders (resource_id, created_at, last_updated, is_deleted, id, name, creator_id, parent_id, is_default) VALUES ('134bae33-5cac-415a-ab6a-a3e27a3200cc', '2024-06-27 18:08:01.489', '2024-06-27 18:08:01.489', false, 100044, 'DT_PRO FAB ENH', 2, 100111, false);\n",
      "INSERT INTO public.folders (resource_id, created_at, last_updated, is_deleted, id, name, creator_id, parent_id, is_default) VALUES ('23b91c0f-177e-43a1-963d-be2f969452f9', '2024-06-27 18:08:01.489', '2024-06-27 18:08:01.489', false, 100045, 'DT_PRO FAB CLEAN', 2, 100111, false);\n",
      "INSERT INTO public.folders (resource_id, created_at, last_updated, is_deleted, id, name, creator_id, parent_id, is_default) VALUES ('41e84ac1-7358-418c-8378-f05c99d7ed39', '2024-06-27 18:08:01.489', '2024-06-27 18:08:01.489', false, 100046, 'DT_OTHER NUTRITION', 2, 100111, false);\n",
      "INSERT INTO public.folders (resource_id, created_at, last_updated, is_deleted, id, name, creator_id, parent_id, is_default) VALUES ('95c9c01c-ea78-4fa0-bd54-833b3bd042e7', '2024-06-27 18:08:01.489', '2024-06-27 18:08:01.489', false, 100047, 'DT_ORAL TOOTHPASTE', 2, 100111, false);\n",
      "INSERT INTO public.folders (resource_id, created_at, last_updated, is_deleted, id, name, creator_id, parent_id, is_default) VALUES ('1a2f51cb-6fa5-407b-a4e3-953c3de0f185', '2024-06-27 18:08:01.489', '2024-06-27 18:08:01.489', false, 100048, 'DT_ORAL TOOTHBRUSH', 2, 100111, false);\n",
      "INSERT INTO public.folders (resource_id, created_at, last_updated, is_deleted, id, name, creator_id, parent_id, is_default) VALUES ('8fd0a8ff-e510-49a3-a645-5bca66506d23', '2024-06-27 18:08:01.489', '2024-06-27 18:08:01.489', false, 100049, 'DT_ORAL CARE', 2, 100111, false);\n",
      "INSERT INTO public.folders (resource_id, created_at, last_updated, is_deleted, id, name, creator_id, parent_id, is_default) VALUES ('5099357c-8bf9-4864-95a3-0ce911a82fa8', '2024-06-27 18:08:01.489', '2024-06-27 18:08:01.489', false, 100050, 'DT_ICE CREAM', 2, 100111, false);\n",
      "INSERT INTO public.folders (resource_id, created_at, last_updated, is_deleted, id, name, creator_id, parent_id, is_default) VALUES ('c774cc1c-2460-4a44-a6c8-506ec57dd7c0', '2024-06-27 18:08:01.489', '2024-06-27 18:08:01.489', false, 100051, 'DT_HOMECARE', 2, 100111, false);\n",
      "INSERT INTO public.folders (resource_id, created_at, last_updated, is_deleted, id, name, creator_id, parent_id, is_default) VALUES ('75fc3353-6cb2-4cd4-8fa8-48f30213ad26', '2024-06-27 18:08:01.489', '2024-06-27 18:08:01.489', false, 100052, 'DT_HOME & HYGIENE', 2, 100111, false);\n",
      "INSERT INTO public.folders (resource_id, created_at, last_updated, is_deleted, id, name, creator_id, parent_id, is_default) VALUES ('33504d28-c2c1-4011-a2d6-097ab6a9d1bf', '2024-06-27 18:08:01.489', '2024-06-27 18:08:01.489', false, 100053, 'DT_HAIR CARE', 2, 100111, false);\n",
      "INSERT INTO public.folders (resource_id, created_at, last_updated, is_deleted, id, name, creator_id, parent_id, is_default) VALUES ('3cd17fce-abc7-4395-8fdd-789e92f5f913', '2024-06-27 18:08:01.489', '2024-06-27 18:08:01.489', false, 100054, 'DT_Food Solution', 2, 100111, false);\n",
      "INSERT INTO public.folders (resource_id, created_at, last_updated, is_deleted, id, name, creator_id, parent_id, is_default) VALUES ('b0b7e6ab-fac1-499c-8f26-9ca2b993d189', '2024-06-27 18:08:01.489', '2024-06-27 18:08:01.489', false, 100055, 'DT_FABRIC ENHANCERS', 2, 100111, false);\n",
      "INSERT INTO public.folders (resource_id, created_at, last_updated, is_deleted, id, name, creator_id, parent_id, is_default) VALUES ('07ce0ed8-172e-4126-81e9-ea676453b4be', '2024-06-27 18:08:01.489', '2024-06-27 18:08:01.489', false, 100056, 'DT_FABRIC CLEANING', 2, 100111, false);\n",
      "INSERT INTO public.folders (resource_id, created_at, last_updated, is_deleted, id, name, creator_id, parent_id, is_default) VALUES ('69cc92f4-198b-4b58-b59c-14ddf9b52673', '2024-06-27 18:08:01.489', '2024-06-27 18:08:01.489', false, 100057, 'DT_eRetail D4C', 2, 100111, false);\n",
      "INSERT INTO public.folders (resource_id, created_at, last_updated, is_deleted, id, name, creator_id, parent_id, is_default) VALUES ('2cdb7d3e-07b9-4df7-9f0b-31a77b8beb7e', '2024-06-27 18:08:01.489', '2024-06-27 18:08:01.489', false, 100058, 'DT_eRetail Innovation', 2, 100111, false);\n",
      "INSERT INTO public.folders (resource_id, created_at, last_updated, is_deleted, id, name, creator_id, parent_id, is_default) VALUES ('cbf54141-4285-47b2-ba26-cc0bd97c6f6d', '2024-06-27 18:08:01.489', '2024-06-27 18:08:01.489', false, 100059, 'DT_DRESSINGS', 2, 100111, false);\n",
      "INSERT INTO public.folders (resource_id, created_at, last_updated, is_deleted, id, name, creator_id, parent_id, is_default) VALUES ('aec1378f-ecb6-4762-9827-a18e372f937f', '2024-06-27 18:08:01.489', '2024-06-27 18:08:01.489', false, 100060, 'DT_DEODORANTS & FRAGRANCES', 2, 100111, false);\n"
     ]
    }
   ],
   "source": [
    "import uuid\n",
    "from datetime import datetime\n",
    "\n",
    "folders = [\n",
    "    \"MT_WINMART PLUS\", \"MT_WINMART\", \"MT_WINMART + WINMART PLUS\", \"MT_WATSON\", \"MT_UEV Nguyen Kim\",\n",
    "    \"MT_UEV Cao Phong\", \"MT_SATRA\", \"MT_SAIGON COOP\", \"MT_PHARMACITY\", \"MT_Omni\", \"MT_METRO\",\n",
    "    \"MT_MEDICARE\", \"MT_MATSU\", \"MT_LOTTE\", \"MT_LAN CHI\", \"MT INDEPENDENT SOUTH\", \"MT INDEPENDENT NORTH\",\n",
    "    \"MT_IND_CENTRAL\", \"MT_HBOO\", \"MT_GIANT\", \"MT_Food Solution\", \"MT_eRetail Innovation\", \"MT_EMART\",\n",
    "    \"MT_BIG_C\", \"MT_BACH HOA XANH\", \"MT_AEON\", \"MKT_SKIN CARE\", \"MKT_SCRATCHCOOKINGAD\", \"MKT_OTHER NUTRITION\",\n",
    "    \"MKT_ICE CREAM\", \"MKT_HOME_HYGIENE\", \"MKT_HAIR CARE\", \"MKT_FABRIC ENHANCERS\", \"MKT_FABRIC CLEANING\",\n",
    "    \"MKT_DRESSINGS\", \"DT_UEV VINADU\", \"DT_UEV Mai Thanh\", \"DT_UEV AMA\", \"DT_SKIN CLEANSING\", \"DT_SKIN CARE\",\n",
    "    \"DT_SCRATCH COOKING AIDS\", \"DT_PROFESSIONAL CLEANING CATEGORY\", \"DT_PRO HOMECARE\", \"DT_PRO H&H\",\n",
    "    \"DT_PRO FAB ENH\", \"DT_PRO FAB CLEAN\", \"DT_OTHER NUTRITION\", \"DT_ORAL TOOTHPASTE\", \"DT_ORAL TOOTHBRUSH\",\n",
    "    \"DT_ORAL CARE\", \"DT_ICE CREAM\", \"DT_HOMECARE\", \"DT_HOME & HYGIENE\", \"DT_HAIR CARE\", \"DT_Food Solution\",\n",
    "    \"DT_FABRIC ENHANCERS\", \"DT_FABRIC CLEANING\", \"DT_eRetail D4C\", \"DT_eRetail Innovation\", \"DT_DRESSINGS\",\n",
    "    \"DT_DEODORANTS & FRAGRANCES\"\n",
    "]\n",
    "\n",
    "created_at = datetime.now().strftime('%Y-%m-%d %H:%M:%S.%f')[:-3]\n",
    "last_updated = created_at\n",
    "\n",
    "sql_statements = []\n",
    "\n",
    "for idx, folder in enumerate(folders):\n",
    "    resource_id = uuid.uuid4()\n",
    "    statement = f\"INSERT INTO public.folders (resource_id, created_at, last_updated, is_deleted, id, name, creator_id, parent_id, is_default) VALUES ('{resource_id}', '{created_at}', '{last_updated}', false, {100000 + idx}, '{folder}', 2, 100111, false);\"\n",
    "    sql_statements.append(statement)\n",
    "\n",
    "for statement in sql_statements:\n",
    "    print(statement)\n"
   ]
  }
 ],
 "metadata": {
  "kernelspec": {
   "display_name": "fern",
   "language": "python",
   "name": "python3"
  },
  "language_info": {
   "codemirror_mode": {
    "name": "ipython",
    "version": 3
   },
   "file_extension": ".py",
   "mimetype": "text/x-python",
   "name": "python",
   "nbconvert_exporter": "python",
   "pygments_lexer": "ipython3",
   "version": "3.8.19"
  }
 },
 "nbformat": 4,
 "nbformat_minor": 2
}
